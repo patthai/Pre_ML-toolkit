{
 "cells": [
  {
   "cell_type": "code",
   "execution_count": 2,
   "metadata": {
    "collapsed": true
   },
   "outputs": [],
   "source": [
    "import json\n"
   ]
  },
  {
   "cell_type": "code",
   "execution_count": 3,
   "metadata": {
    "collapsed": true
   },
   "outputs": [],
   "source": [
    "from os.path import join, dirname"
   ]
  },
  {
   "cell_type": "code",
   "execution_count": 4,
   "metadata": {
    "collapsed": true
   },
   "outputs": [],
   "source": [
    "from watson_developer_cloud import NaturalLanguageClassifierV1"
   ]
  },
  {
   "cell_type": "code",
   "execution_count": 7,
   "metadata": {},
   "outputs": [
    {
     "name": "stdout",
     "output_type": "stream",
     "text": [
      "{\n",
      "  \"classifiers\": []\n",
      "}\n"
     ]
    }
   ],
   "source": [
    "natural_language_classifier = NaturalLanguageClassifierV1(\n",
    "    username='7e428de0-b815-4786-8987-a9a5cca4c2e3',\n",
    "    password='inp5dfvc4fu3')\n",
    "\n",
    "classifiers = natural_language_classifier.list()\n",
    "print(json.dumps(classifiers, indent=2))"
   ]
  },
  {
   "cell_type": "code",
   "execution_count": 6,
   "metadata": {
    "collapsed": true
   },
   "outputs": [],
   "source": [
    "delete = natural_language_classifier.remove('359f41x201-nlc-69021')\n"
   ]
  },
  {
   "cell_type": "code",
   "execution_count": 8,
   "metadata": {
    "collapsed": true
   },
   "outputs": [],
   "source": [
    "# Create Classifier 1\n"
   ]
  },
  {
   "cell_type": "code",
   "execution_count": null,
   "metadata": {
    "collapsed": true
   },
   "outputs": [],
   "source": [
    "name_1 = 'EXP4_fold_1_without_sample_non-suicidal_Poet_1'"
   ]
  },
  {
   "cell_type": "code",
   "execution_count": 11,
   "metadata": {},
   "outputs": [
    {
     "name": "stdout",
     "output_type": "stream",
     "text": [
      "{\n",
      "  \"status\": \"Training\", \n",
      "  \"name\": \"weather\", \n",
      "  \"language\": \"en\", \n",
      "  \"created\": \"2017-06-16T16:17:14.773Z\", \n",
      "  \"url\": \"https://gateway.watsonplatform.net/natural-language-classifier/api/v1/classifiers/359f41x201-nlc-69021\", \n",
      "  \"status_description\": \"The classifier instance is in its training phase, not yet ready to accept classify requests\", \n",
      "  \"classifier_id\": \"359f41x201-nlc-69021\"\n",
      "}\n"
     ]
    }
   ],
   "source": [
    "with open('input/' + name_1 +'/train/train.csv', 'rb') as training_data: print(json.dumps(natural_language_classifier.create(training_data=training_data, name=name_1), indent=2))"
   ]
  },
  {
   "cell_type": "code",
   "execution_count": 21,
   "metadata": {},
   "outputs": [
    {
     "name": "stdout",
     "output_type": "stream",
     "text": [
      "{\n",
      "  \"status\": \"Available\", \n",
      "  \"name\": \"weather\", \n",
      "  \"language\": \"en\", \n",
      "  \"created\": \"2017-06-16T16:17:14.773Z\", \n",
      "  \"url\": \"https://gateway.watsonplatform.net/natural-language-classifier/api/v1/classifiers/359f41x201-nlc-69021\", \n",
      "  \"status_description\": \"The classifier instance is now available and is ready to take classifier requests.\", \n",
      "  \"classifier_id\": \"359f41x201-nlc-69021\"\n",
      "}\n"
     ]
    }
   ],
   "source": [
    "status = natural_language_classifier.status('359f41x201-nlc-69021')\n",
    "print(json.dumps(status, indent=2))"
   ]
  },
  {
   "cell_type": "code",
   "execution_count": 33,
   "metadata": {
    "collapsed": true
   },
   "outputs": [],
   "source": [
    "with open(\"input/EXP4_fold_1_without_sample_non-suicidal_Poet_1/test/test.csv\", \"r\") as ins:\n",
    "    array = []\n",
    "    for line in ins:\n",
    "        array.append(line)"
   ]
  },
  {
   "cell_type": "code",
   "execution_count": 38,
   "metadata": {
    "collapsed": true
   },
   "outputs": [],
   "source": [
    "classes = natural_language_classifier.classify('359f41x201-nlc-69021',list[1])"
   ]
  },
  {
   "cell_type": "code",
   "execution_count": null,
   "metadata": {
    "collapsed": true
   },
   "outputs": [],
   "source": []
  }
 ],
 "metadata": {
  "kernelspec": {
   "display_name": "Python 2",
   "language": "python",
   "name": "python2"
  },
  "language_info": {
   "codemirror_mode": {
    "name": "ipython",
    "version": 2
   },
   "file_extension": ".py",
   "mimetype": "text/x-python",
   "name": "python",
   "nbconvert_exporter": "python",
   "pygments_lexer": "ipython2",
   "version": "2.7.13"
  }
 },
 "nbformat": 4,
 "nbformat_minor": 2
}
