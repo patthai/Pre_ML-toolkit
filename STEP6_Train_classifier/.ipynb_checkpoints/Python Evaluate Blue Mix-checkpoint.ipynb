{
 "cells": [
  {
   "cell_type": "markdown",
   "metadata": {},
   "source": [
    "# Init"
   ]
  },
  {
   "cell_type": "code",
   "execution_count": 2,
   "metadata": {
    "collapsed": true,
    "scrolled": true
   },
   "outputs": [],
   "source": [
    "import json\n"
   ]
  },
  {
   "cell_type": "code",
   "execution_count": 3,
   "metadata": {
    "collapsed": true,
    "scrolled": true
   },
   "outputs": [],
   "source": [
    "from os.path import join, dirname"
   ]
  },
  {
   "cell_type": "code",
   "execution_count": 4,
   "metadata": {
    "collapsed": true,
    "scrolled": true
   },
   "outputs": [],
   "source": [
    "from watson_developer_cloud import NaturalLanguageClassifierV1"
   ]
  },
  {
   "cell_type": "markdown",
   "metadata": {},
   "source": [
    "# Check Classifier"
   ]
  },
  {
   "cell_type": "code",
   "execution_count": 5,
   "metadata": {},
   "outputs": [],
   "source": [
    "natural_language_classifier = NaturalLanguageClassifierV1(\n",
    "    username='7e428de0-b815-4786-8987-a9a5cca4c2e3',\n",
    "    password='inp5dfvc4fu3')\n",
    "\n",
    "classifiers = natural_language_classifier.list()\n"
   ]
  },
  {
   "cell_type": "markdown",
   "metadata": {},
   "source": [
    "### Name\n"
   ]
  },
  {
   "cell_type": "code",
   "execution_count": 29,
   "metadata": {
    "collapsed": true,
    "scrolled": true
   },
   "outputs": [],
   "source": [
    "name_1 = 'EXP4_fold_1_without_sample_non-suicidal_Poet_1'"
   ]
  },
  {
   "cell_type": "code",
   "execution_count": 44,
   "metadata": {
    "scrolled": true
   },
   "outputs": [
    {
     "name": "stdout",
     "output_type": "stream",
     "text": [
      "{\n",
      "  \"status\": \"Training\", \n",
      "  \"name\": \"EXP4_fold_1_without_sample_non-suicidal_Poet_1\", \n",
      "  \"language\": \"en\", \n",
      "  \"created\": \"2017-06-16T18:03:55.526Z\", \n",
      "  \"url\": \"https://gateway.watsonplatform.net/natural-language-classifier/api/v1/classifiers/359f3fx202-nlc-68782\", \n",
      "  \"status_description\": \"The classifier instance is in its training phase, not yet ready to accept classify requests\", \n",
      "  \"classifier_id\": \"359f3fx202-nlc-68782\"\n",
      "}\n"
     ]
    }
   ],
   "source": [
    "classes = natural_language_classifier.classify('2374f9x68-nlc-2697',\n",
    "                                                   'How hot will it be '\n",
    "                                                   'tomorrow?')"
   ]
  }
 ],
 "metadata": {
  "kernelspec": {
   "display_name": "Python 2",
   "language": "python",
   "name": "python2"
  },
  "language_info": {
   "codemirror_mode": {
    "name": "ipython",
    "version": 2
   },
   "file_extension": ".py",
   "mimetype": "text/x-python",
   "name": "python",
   "nbconvert_exporter": "python",
   "pygments_lexer": "ipython2",
   "version": "2.7.13"
  }
 },
 "nbformat": 4,
 "nbformat_minor": 2
}
