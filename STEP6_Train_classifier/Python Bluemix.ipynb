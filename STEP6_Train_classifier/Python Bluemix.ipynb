{
 "cells": [
  {
   "cell_type": "markdown",
   "metadata": {},
   "source": [
    "# Init"
   ]
  },
  {
   "cell_type": "code",
   "execution_count": 1,
   "metadata": {
    "collapsed": true,
    "scrolled": true
   },
   "outputs": [],
   "source": [
    "import json\n"
   ]
  },
  {
   "cell_type": "code",
   "execution_count": 2,
   "metadata": {
    "collapsed": true,
    "scrolled": true
   },
   "outputs": [],
   "source": [
    "from os.path import join, dirname"
   ]
  },
  {
   "cell_type": "code",
   "execution_count": 3,
   "metadata": {
    "collapsed": true,
    "scrolled": true
   },
   "outputs": [],
   "source": [
    "from watson_developer_cloud import NaturalLanguageClassifierV1"
   ]
  },
  {
   "cell_type": "markdown",
   "metadata": {},
   "source": [
    "# Check Classifier"
   ]
  },
  {
   "cell_type": "code",
   "execution_count": 4,
   "metadata": {},
   "outputs": [
    {
     "name": "stdout",
     "output_type": "stream",
     "text": [
      "{\n",
      "  \"classifiers\": [\n",
      "    {\n",
      "      \"url\": \"https://gateway.watsonplatform.net/natural-language-classifier/api/v1/classifiers/67a480x203-nlc-36506\", \n",
      "      \"classifier_id\": \"67a480x203-nlc-36506\", \n",
      "      \"name\": \"EXP4_fold_3_without_sample_non-suicidal_Poet_3\", \n",
      "      \"language\": \"en\", \n",
      "      \"created\": \"2017-06-16T17:58:10.553Z\"\n",
      "    }, \n",
      "    {\n",
      "      \"url\": \"https://gateway.watsonplatform.net/natural-language-classifier/api/v1/classifiers/67a480x203-nlc-36545\", \n",
      "      \"classifier_id\": \"67a480x203-nlc-36545\", \n",
      "      \"name\": \"EXP4_fold_7_without_sample_non-suicidal_Poet_7\", \n",
      "      \"language\": \"en\", \n",
      "      \"created\": \"2017-06-16T18:33:03.390Z\"\n",
      "    }, \n",
      "    {\n",
      "      \"url\": \"https://gateway.watsonplatform.net/natural-language-classifier/api/v1/classifiers/359f3fx202-nlc-68779\", \n",
      "      \"classifier_id\": \"359f3fx202-nlc-68779\", \n",
      "      \"name\": \"EXP4_fold_4_without_sample_non-suicidal_Poet_4\", \n",
      "      \"language\": \"en\", \n",
      "      \"created\": \"2017-06-16T17:59:08.765Z\"\n",
      "    }, \n",
      "    {\n",
      "      \"url\": \"https://gateway.watsonplatform.net/natural-language-classifier/api/v1/classifiers/359f3fx202-nlc-68777\", \n",
      "      \"classifier_id\": \"359f3fx202-nlc-68777\", \n",
      "      \"name\": \"EXP4_fold_1_without_sample_non-suicidal_Poet_1\", \n",
      "      \"language\": \"en\", \n",
      "      \"created\": \"2017-06-16T17:55:17.108Z\"\n",
      "    }, \n",
      "    {\n",
      "      \"url\": \"https://gateway.watsonplatform.net/natural-language-classifier/api/v1/classifiers/359f3fx202-nlc-68778\", \n",
      "      \"classifier_id\": \"359f3fx202-nlc-68778\", \n",
      "      \"name\": \"EXP4_fold_2_without_sample_non-suicidal_Poet_2\", \n",
      "      \"language\": \"en\", \n",
      "      \"created\": \"2017-06-16T17:56:41.719Z\"\n",
      "    }, \n",
      "    {\n",
      "      \"url\": \"https://gateway.watsonplatform.net/natural-language-classifier/api/v1/classifiers/359f3fx202-nlc-68818\", \n",
      "      \"classifier_id\": \"359f3fx202-nlc-68818\", \n",
      "      \"name\": \"EXP4_fold_6_without_sample_non-suicidal_Poet_6\", \n",
      "      \"language\": \"en\", \n",
      "      \"created\": \"2017-06-16T18:32:03.937Z\"\n",
      "    }, \n",
      "    {\n",
      "      \"url\": \"https://gateway.watsonplatform.net/natural-language-classifier/api/v1/classifiers/359f41x201-nlc-69038\", \n",
      "      \"classifier_id\": \"359f41x201-nlc-69038\", \n",
      "      \"name\": \"EXP4_fold_5_without_sample_non-suicidal_Poet_5\", \n",
      "      \"language\": \"en\", \n",
      "      \"created\": \"2017-06-16T18:02:40.188Z\"\n",
      "    }, \n",
      "    {\n",
      "      \"url\": \"https://gateway.watsonplatform.net/natural-language-classifier/api/v1/classifiers/359f41x201-nlc-69094\", \n",
      "      \"classifier_id\": \"359f41x201-nlc-69094\", \n",
      "      \"name\": \"EXP4_fold_8_without_sample_non-suicidal_Poet_8\", \n",
      "      \"language\": \"en\", \n",
      "      \"created\": \"2017-06-16T18:33:53.602Z\"\n",
      "    }\n",
      "  ]\n",
      "}\n"
     ]
    }
   ],
   "source": [
    "natural_language_classifier = NaturalLanguageClassifierV1(\n",
    "    username='7e428de0-b815-4786-8987-a9a5cca4c2e3',\n",
    "    password='inp5dfvc4fu3')\n",
    "\n",
    "classifiers = natural_language_classifier.list()\n",
    "print(json.dumps(classifiers, indent=2))"
   ]
  },
  {
   "cell_type": "markdown",
   "metadata": {},
   "source": [
    "# Delete Classifier"
   ]
  },
  {
   "cell_type": "code",
   "execution_count": 43,
   "metadata": {
    "collapsed": true,
    "scrolled": true
   },
   "outputs": [],
   "source": [
    "delete = natural_language_classifier.remove('359f3fx202-nlc-81873')\n"
   ]
  },
  {
   "cell_type": "markdown",
   "metadata": {},
   "source": [
    "# Create Classifier \n"
   ]
  },
  {
   "cell_type": "markdown",
   "metadata": {},
   "source": [
    "### Name\n"
   ]
  },
  {
   "cell_type": "code",
   "execution_count": 19,
   "metadata": {
    "collapsed": true,
    "scrolled": true
   },
   "outputs": [],
   "source": [
    "name_1 = 'EXP4_fold_12_without_sample_suicidal_Poet_1'"
   ]
  },
  {
   "cell_type": "code",
   "execution_count": 21,
   "metadata": {
    "collapsed": true,
    "scrolled": true
   },
   "outputs": [],
   "source": [
    "name_2 = 'EXP4_fold_13_without_sample_suicidal_Poet_2'"
   ]
  },
  {
   "cell_type": "code",
   "execution_count": 23,
   "metadata": {
    "collapsed": true,
    "scrolled": true
   },
   "outputs": [],
   "source": [
    "name_3 = 'EXP4_fold_14_without_sample_suicidal_Poet_3'"
   ]
  },
  {
   "cell_type": "code",
   "execution_count": 25,
   "metadata": {
    "collapsed": true,
    "scrolled": true
   },
   "outputs": [],
   "source": [
    "name_4 = 'EXP4_fold_15_without_sample_suicidal_Poet_4'"
   ]
  },
  {
   "cell_type": "code",
   "execution_count": 27,
   "metadata": {
    "collapsed": true,
    "scrolled": true
   },
   "outputs": [],
   "source": [
    "name_5 = 'EXP4_fold_16_without_sample_suicidal_Poet_5'"
   ]
  },
  {
   "cell_type": "code",
   "execution_count": 30,
   "metadata": {
    "collapsed": true,
    "scrolled": true
   },
   "outputs": [],
   "source": [
    "name_6 = 'EXP4_fold_17_without_sample_suicidal_Poet_6'"
   ]
  },
  {
   "cell_type": "code",
   "execution_count": 31,
   "metadata": {
    "collapsed": true,
    "scrolled": true
   },
   "outputs": [],
   "source": [
    "name_7 = 'EXP4_fold_18_without_sample_suicidal_Poet_7'"
   ]
  },
  {
   "cell_type": "code",
   "execution_count": 32,
   "metadata": {
    "collapsed": true,
    "scrolled": true
   },
   "outputs": [],
   "source": [
    "name_8 = 'EXP4_fold_19_without_sample_suicidal_Poet_8'"
   ]
  },
  {
   "cell_type": "code",
   "execution_count": 36,
   "metadata": {
    "collapsed": true,
    "scrolled": true
   },
   "outputs": [],
   "source": [
    "name_9 = 'EXP4_fold_20_without_sample_suicidal_Poet_9'"
   ]
  },
  {
   "cell_type": "code",
   "execution_count": 37,
   "metadata": {
    "collapsed": true,
    "scrolled": true
   },
   "outputs": [],
   "source": [
    "name_10 = 'EXP4_fold_21_without_sample_suicidal_Poet_10'"
   ]
  },
  {
   "cell_type": "code",
   "execution_count": 38,
   "metadata": {
    "collapsed": true,
    "scrolled": true
   },
   "outputs": [],
   "source": [
    "name_11 = 'EXP4_fold_22_without_sample_suicidal_Poet_11'"
   ]
  },
  {
   "cell_type": "markdown",
   "metadata": {},
   "source": [
    "### Create Classifier\n"
   ]
  },
  {
   "cell_type": "code",
   "execution_count": 20,
   "metadata": {
    "scrolled": true
   },
   "outputs": [
    {
     "name": "stdout",
     "output_type": "stream",
     "text": [
      "{\n",
      "  \"status\": \"Training\", \n",
      "  \"name\": \"EXP4_fold_12_without_sample_suicidal_Poet_1\", \n",
      "  \"language\": \"en\", \n",
      "  \"created\": \"2017-06-19T14:35:56.643Z\", \n",
      "  \"url\": \"https://gateway.watsonplatform.net/natural-language-classifier/api/v1/classifiers/359f41x201-nlc-82045\", \n",
      "  \"status_description\": \"The classifier instance is in its training phase, not yet ready to accept classify requests\", \n",
      "  \"classifier_id\": \"359f41x201-nlc-82045\"\n",
      "}\n"
     ]
    }
   ],
   "source": [
    "with open('input/' + name_1 +'/train/train.csv', 'rb') as training_data: print(json.dumps(natural_language_classifier.create(training_data=training_data, name=name_1), indent=2))"
   ]
  },
  {
   "cell_type": "code",
   "execution_count": 22,
   "metadata": {
    "scrolled": true
   },
   "outputs": [
    {
     "name": "stdout",
     "output_type": "stream",
     "text": [
      "{\n",
      "  \"status\": \"Training\", \n",
      "  \"name\": \"EXP4_fold_13_without_sample_suicidal_Poet_2\", \n",
      "  \"language\": \"en\", \n",
      "  \"created\": \"2017-06-19T14:36:15.891Z\", \n",
      "  \"url\": \"https://gateway.watsonplatform.net/natural-language-classifier/api/v1/classifiers/67a480x203-nlc-49645\", \n",
      "  \"status_description\": \"The classifier instance is in its training phase, not yet ready to accept classify requests\", \n",
      "  \"classifier_id\": \"67a480x203-nlc-49645\"\n",
      "}\n"
     ]
    }
   ],
   "source": [
    "with open('input/' + name_2 +'/train/train.csv', 'rb') as training_data: print(json.dumps(natural_language_classifier.create(training_data=training_data, name=name_2), indent=2))"
   ]
  },
  {
   "cell_type": "code",
   "execution_count": 44,
   "metadata": {
    "scrolled": true
   },
   "outputs": [
    {
     "name": "stdout",
     "output_type": "stream",
     "text": [
      "{\n",
      "  \"status\": \"Training\", \n",
      "  \"name\": \"EXP4_fold_14_without_sample_suicidal_Poet_3\", \n",
      "  \"language\": \"en\", \n",
      "  \"created\": \"2017-06-19T15:37:42.316Z\", \n",
      "  \"url\": \"https://gateway.watsonplatform.net/natural-language-classifier/api/v1/classifiers/67a480x203-nlc-49821\", \n",
      "  \"status_description\": \"The classifier instance is in its training phase, not yet ready to accept classify requests\", \n",
      "  \"classifier_id\": \"67a480x203-nlc-49821\"\n",
      "}\n"
     ]
    }
   ],
   "source": [
    "with open('input/' + name_3 +'/train/train.csv', 'rb') as training_data: print(json.dumps(natural_language_classifier.create(training_data=training_data, name=name_3), indent=2))"
   ]
  },
  {
   "cell_type": "code",
   "execution_count": 45,
   "metadata": {
    "scrolled": true
   },
   "outputs": [
    {
     "name": "stdout",
     "output_type": "stream",
     "text": [
      "{\n",
      "  \"status\": \"Training\", \n",
      "  \"name\": \"EXP4_fold_15_without_sample_suicidal_Poet_4\", \n",
      "  \"language\": \"en\", \n",
      "  \"created\": \"2017-06-19T15:37:47.018Z\", \n",
      "  \"url\": \"https://gateway.watsonplatform.net/natural-language-classifier/api/v1/classifiers/67a480x203-nlc-49822\", \n",
      "  \"status_description\": \"The classifier instance is in its training phase, not yet ready to accept classify requests\", \n",
      "  \"classifier_id\": \"67a480x203-nlc-49822\"\n",
      "}\n"
     ]
    }
   ],
   "source": [
    "with open('input/' + name_4 +'/train/train.csv', 'rb') as training_data: print(json.dumps(natural_language_classifier.create(training_data=training_data, name=name_4), indent=2))"
   ]
  },
  {
   "cell_type": "code",
   "execution_count": 29,
   "metadata": {
    "scrolled": true
   },
   "outputs": [
    {
     "name": "stdout",
     "output_type": "stream",
     "text": [
      "{\n",
      "  \"status\": \"Training\", \n",
      "  \"name\": \"EXP4_fold_16_without_sample_suicidal_Poet_5\", \n",
      "  \"language\": \"en\", \n",
      "  \"created\": \"2017-06-19T14:47:19.542Z\", \n",
      "  \"url\": \"https://gateway.watsonplatform.net/natural-language-classifier/api/v1/classifiers/67a480x203-nlc-49687\", \n",
      "  \"status_description\": \"The classifier instance is in its training phase, not yet ready to accept classify requests\", \n",
      "  \"classifier_id\": \"67a480x203-nlc-49687\"\n",
      "}\n"
     ]
    }
   ],
   "source": [
    "with open('input/' + name_5 +'/train/train.csv', 'rb') as training_data: print(json.dumps(natural_language_classifier.create(training_data=training_data, name=name_5), indent=2))"
   ]
  },
  {
   "cell_type": "code",
   "execution_count": 33,
   "metadata": {
    "scrolled": true
   },
   "outputs": [
    {
     "name": "stdout",
     "output_type": "stream",
     "text": [
      "{\n",
      "  \"status\": \"Training\", \n",
      "  \"name\": \"EXP4_fold_17_without_sample_suicidal_Poet_6\", \n",
      "  \"language\": \"en\", \n",
      "  \"created\": \"2017-06-19T14:51:45.022Z\", \n",
      "  \"url\": \"https://gateway.watsonplatform.net/natural-language-classifier/api/v1/classifiers/359f41x201-nlc-82108\", \n",
      "  \"status_description\": \"The classifier instance is in its training phase, not yet ready to accept classify requests\", \n",
      "  \"classifier_id\": \"359f41x201-nlc-82108\"\n",
      "}\n"
     ]
    }
   ],
   "source": [
    "with open('input/' + name_6 +'/train/train.csv', 'rb') as training_data: print(json.dumps(natural_language_classifier.create(training_data=training_data, name=name_6), indent=2))"
   ]
  },
  {
   "cell_type": "code",
   "execution_count": 34,
   "metadata": {
    "scrolled": true
   },
   "outputs": [
    {
     "name": "stdout",
     "output_type": "stream",
     "text": [
      "{\n",
      "  \"status\": \"Training\", \n",
      "  \"name\": \"EXP4_fold_18_without_sample_suicidal_Poet_7\", \n",
      "  \"language\": \"en\", \n",
      "  \"created\": \"2017-06-19T14:51:48.169Z\", \n",
      "  \"url\": \"https://gateway.watsonplatform.net/natural-language-classifier/api/v1/classifiers/359f3fx202-nlc-81926\", \n",
      "  \"status_description\": \"The classifier instance is in its training phase, not yet ready to accept classify requests\", \n",
      "  \"classifier_id\": \"359f3fx202-nlc-81926\"\n",
      "}\n"
     ]
    }
   ],
   "source": [
    "with open('input/' + name_7 +'/train/train.csv', 'rb') as training_data: print(json.dumps(natural_language_classifier.create(training_data=training_data, name=name_7), indent=2))"
   ]
  },
  {
   "cell_type": "code",
   "execution_count": 35,
   "metadata": {
    "scrolled": true
   },
   "outputs": [
    {
     "name": "stdout",
     "output_type": "stream",
     "text": [
      "{\n",
      "  \"status\": \"Training\", \n",
      "  \"name\": \"EXP4_fold_19_without_sample_suicidal_Poet_8\", \n",
      "  \"language\": \"en\", \n",
      "  \"created\": \"2017-06-19T14:51:52.002Z\", \n",
      "  \"url\": \"https://gateway.watsonplatform.net/natural-language-classifier/api/v1/classifiers/67a480x203-nlc-49706\", \n",
      "  \"status_description\": \"The classifier instance is in its training phase, not yet ready to accept classify requests\", \n",
      "  \"classifier_id\": \"67a480x203-nlc-49706\"\n",
      "}\n"
     ]
    }
   ],
   "source": [
    "with open('input/' + name_8 +'/train/train.csv', 'rb') as training_data: print(json.dumps(natural_language_classifier.create(training_data=training_data, name=name_8), indent=2))"
   ]
  },
  {
   "cell_type": "code",
   "execution_count": 41,
   "metadata": {
    "scrolled": true
   },
   "outputs": [
    {
     "name": "stdout",
     "output_type": "stream",
     "text": [
      "{\n",
      "  \"status\": \"Training\", \n",
      "  \"name\": \"EXP4_fold_20_without_sample_suicidal_Poet_9\", \n",
      "  \"language\": \"en\", \n",
      "  \"created\": \"2017-06-19T14:55:55.020Z\", \n",
      "  \"url\": \"https://gateway.watsonplatform.net/natural-language-classifier/api/v1/classifiers/67a480x203-nlc-49723\", \n",
      "  \"status_description\": \"The classifier instance is in its training phase, not yet ready to accept classify requests\", \n",
      "  \"classifier_id\": \"67a480x203-nlc-49723\"\n",
      "}\n"
     ]
    }
   ],
   "source": [
    "with open('input/' + name_9 +'/train/train.csv', 'rb') as training_data: print(json.dumps(natural_language_classifier.create(training_data=training_data, name=name_9), indent=2))"
   ]
  },
  {
   "cell_type": "code",
   "execution_count": 14,
   "metadata": {
    "scrolled": true
   },
   "outputs": [
    {
     "name": "stdout",
     "output_type": "stream",
     "text": [
      "{\n",
      "  \"status\": \"Training\", \n",
      "  \"name\": \"EXP4_fold_10_without_sample_non-suicidal_Poet_10\", \n",
      "  \"language\": \"en\", \n",
      "  \"created\": \"2017-06-19T14:28:58.775Z\", \n",
      "  \"url\": \"https://gateway.watsonplatform.net/natural-language-classifier/api/v1/classifiers/359f3fx202-nlc-81843\", \n",
      "  \"status_description\": \"The classifier instance is in its training phase, not yet ready to accept classify requests\", \n",
      "  \"classifier_id\": \"359f3fx202-nlc-81843\"\n",
      "}\n"
     ]
    }
   ],
   "source": [
    "with open('input/' + name_10 +'/train/train.csv', 'rb') as training_data: print(json.dumps(natural_language_classifier.create(training_data=training_data, name=name_10), indent=2))"
   ]
  },
  {
   "cell_type": "code",
   "execution_count": 16,
   "metadata": {
    "scrolled": true
   },
   "outputs": [
    {
     "name": "stdout",
     "output_type": "stream",
     "text": [
      "{\n",
      "  \"status\": \"Training\", \n",
      "  \"name\": \"EXP4_fold_11_without_sample_non-suicidal_Poet_11\", \n",
      "  \"language\": \"en\", \n",
      "  \"created\": \"2017-06-19T14:32:21.362Z\", \n",
      "  \"url\": \"https://gateway.watsonplatform.net/natural-language-classifier/api/v1/classifiers/359f41x201-nlc-82029\", \n",
      "  \"status_description\": \"The classifier instance is in its training phase, not yet ready to accept classify requests\", \n",
      "  \"classifier_id\": \"359f41x201-nlc-82029\"\n",
      "}\n"
     ]
    }
   ],
   "source": [
    "with open('input/' + name_11 +'/train/train.csv', 'rb') as training_data: print(json.dumps(natural_language_classifier.create(training_data=training_data, name=name_11), indent=2))"
   ]
  },
  {
   "cell_type": "markdown",
   "metadata": {},
   "source": [
    "# Status Classifier\n",
    "\n"
   ]
  },
  {
   "cell_type": "markdown",
   "metadata": {},
   "source": [
    "### Classifier 1\n"
   ]
  },
  {
   "cell_type": "code",
   "execution_count": 7,
   "metadata": {
    "scrolled": true
   },
   "outputs": [
    {
     "name": "stdout",
     "output_type": "stream",
     "text": [
      "{\"status\": \"Available\", \"name\": \"EXP4_fold_1_without_sample_non-suicidal_Poet_1\", \"language\": \"en\", \"created\": \"2017-06-16T17:55:17.108Z\", \"url\": \"https://gateway.watsonplatform.net/natural-language-classifier/api/v1/classifiers/359f3fx202-nlc-68777\", \"status_description\": \"The classifier instance is now available and is ready to take classifier requests.\", \"classifier_id\": \"359f3fx202-nlc-68777\"}\n"
     ]
    }
   ],
   "source": [
    "status = natural_language_classifier.status('359f3fx202-nlc-68777')\n",
    "print(json.dumps(status))"
   ]
  },
  {
   "cell_type": "markdown",
   "metadata": {},
   "source": [
    "### Classifier 2\n"
   ]
  },
  {
   "cell_type": "code",
   "execution_count": 8,
   "metadata": {
    "scrolled": true
   },
   "outputs": [
    {
     "name": "stdout",
     "output_type": "stream",
     "text": [
      "{\"status\": \"Available\", \"name\": \"EXP4_fold_2_without_sample_non-suicidal_Poet_2\", \"language\": \"en\", \"created\": \"2017-06-16T17:56:41.719Z\", \"url\": \"https://gateway.watsonplatform.net/natural-language-classifier/api/v1/classifiers/359f3fx202-nlc-68778\", \"status_description\": \"The classifier instance is now available and is ready to take classifier requests.\", \"classifier_id\": \"359f3fx202-nlc-68778\"}\n"
     ]
    }
   ],
   "source": [
    "status = natural_language_classifier.status('359f3fx202-nlc-68778')\n",
    "print(json.dumps(status))"
   ]
  },
  {
   "cell_type": "markdown",
   "metadata": {},
   "source": [
    "### Classifier 3\n"
   ]
  },
  {
   "cell_type": "code",
   "execution_count": 9,
   "metadata": {
    "scrolled": false
   },
   "outputs": [
    {
     "name": "stdout",
     "output_type": "stream",
     "text": [
      "{\"status\": \"Available\", \"name\": \"EXP4_fold_3_without_sample_non-suicidal_Poet_3\", \"language\": \"en\", \"created\": \"2017-06-16T17:58:10.553Z\", \"url\": \"https://gateway.watsonplatform.net/natural-language-classifier/api/v1/classifiers/67a480x203-nlc-36506\", \"status_description\": \"The classifier instance is now available and is ready to take classifier requests.\", \"classifier_id\": \"67a480x203-nlc-36506\"}\n"
     ]
    }
   ],
   "source": [
    "status = natural_language_classifier.status('67a480x203-nlc-36506')\n",
    "print(json.dumps(status))"
   ]
  },
  {
   "cell_type": "markdown",
   "metadata": {},
   "source": [
    "### Classifier 4\n"
   ]
  },
  {
   "cell_type": "code",
   "execution_count": 10,
   "metadata": {
    "scrolled": true
   },
   "outputs": [
    {
     "name": "stdout",
     "output_type": "stream",
     "text": [
      "{\"status\": \"Available\", \"name\": \"EXP4_fold_4_without_sample_non-suicidal_Poet_4\", \"language\": \"en\", \"created\": \"2017-06-16T17:59:08.765Z\", \"url\": \"https://gateway.watsonplatform.net/natural-language-classifier/api/v1/classifiers/359f3fx202-nlc-68779\", \"status_description\": \"The classifier instance is now available and is ready to take classifier requests.\", \"classifier_id\": \"359f3fx202-nlc-68779\"}\n"
     ]
    }
   ],
   "source": [
    "status = natural_language_classifier.status('359f3fx202-nlc-68779')\n",
    "print(json.dumps(status))"
   ]
  },
  {
   "cell_type": "markdown",
   "metadata": {},
   "source": [
    "### Classifier 5\n"
   ]
  },
  {
   "cell_type": "code",
   "execution_count": 11,
   "metadata": {
    "scrolled": true
   },
   "outputs": [
    {
     "name": "stdout",
     "output_type": "stream",
     "text": [
      "{\"status\": \"Available\", \"name\": \"EXP4_fold_5_without_sample_non-suicidal_Poet_5\", \"language\": \"en\", \"created\": \"2017-06-16T18:02:40.188Z\", \"url\": \"https://gateway.watsonplatform.net/natural-language-classifier/api/v1/classifiers/359f41x201-nlc-69038\", \"status_description\": \"The classifier instance is now available and is ready to take classifier requests.\", \"classifier_id\": \"359f41x201-nlc-69038\"}\n"
     ]
    }
   ],
   "source": [
    "status = natural_language_classifier.status('359f41x201-nlc-69038')\n",
    "print(json.dumps(status))"
   ]
  },
  {
   "cell_type": "markdown",
   "metadata": {},
   "source": [
    "### Classifier 6\n"
   ]
  },
  {
   "cell_type": "code",
   "execution_count": 12,
   "metadata": {
    "scrolled": true
   },
   "outputs": [
    {
     "name": "stdout",
     "output_type": "stream",
     "text": [
      "{\"status\": \"Available\", \"name\": \"EXP4_fold_6_without_sample_non-suicidal_Poet_6\", \"language\": \"en\", \"created\": \"2017-06-16T18:32:03.937Z\", \"url\": \"https://gateway.watsonplatform.net/natural-language-classifier/api/v1/classifiers/359f3fx202-nlc-68818\", \"status_description\": \"The classifier instance is now available and is ready to take classifier requests.\", \"classifier_id\": \"359f3fx202-nlc-68818\"}\n"
     ]
    }
   ],
   "source": [
    "status = natural_language_classifier.status('359f3fx202-nlc-68818')\n",
    "print(json.dumps(status))"
   ]
  },
  {
   "cell_type": "markdown",
   "metadata": {},
   "source": [
    "### Classifier 7\n"
   ]
  },
  {
   "cell_type": "code",
   "execution_count": 13,
   "metadata": {
    "scrolled": true
   },
   "outputs": [
    {
     "name": "stdout",
     "output_type": "stream",
     "text": [
      "{\"status\": \"Available\", \"name\": \"EXP4_fold_7_without_sample_non-suicidal_Poet_7\", \"language\": \"en\", \"created\": \"2017-06-16T18:33:03.390Z\", \"url\": \"https://gateway.watsonplatform.net/natural-language-classifier/api/v1/classifiers/67a480x203-nlc-36545\", \"status_description\": \"The classifier instance is now available and is ready to take classifier requests.\", \"classifier_id\": \"67a480x203-nlc-36545\"}\n"
     ]
    }
   ],
   "source": [
    "status = natural_language_classifier.status('67a480x203-nlc-36545')\n",
    "print(json.dumps(status))"
   ]
  },
  {
   "cell_type": "markdown",
   "metadata": {},
   "source": [
    "### Classifier 8\n"
   ]
  },
  {
   "cell_type": "code",
   "execution_count": 14,
   "metadata": {
    "scrolled": true
   },
   "outputs": [
    {
     "name": "stdout",
     "output_type": "stream",
     "text": [
      "{\"status\": \"Available\", \"name\": \"EXP4_fold_8_without_sample_non-suicidal_Poet_8\", \"language\": \"en\", \"created\": \"2017-06-16T18:33:53.602Z\", \"url\": \"https://gateway.watsonplatform.net/natural-language-classifier/api/v1/classifiers/359f41x201-nlc-69094\", \"status_description\": \"The classifier instance is now available and is ready to take classifier requests.\", \"classifier_id\": \"359f41x201-nlc-69094\"}\n"
     ]
    }
   ],
   "source": [
    "status = natural_language_classifier.status('359f41x201-nlc-69094')\n",
    "print(json.dumps(status))"
   ]
  },
  {
   "cell_type": "code",
   "execution_count": null,
   "metadata": {
    "collapsed": true
   },
   "outputs": [],
   "source": []
  }
 ],
 "metadata": {
  "kernelspec": {
   "display_name": "Python 2",
   "language": "python",
   "name": "python2"
  },
  "language_info": {
   "codemirror_mode": {
    "name": "ipython",
    "version": 2
   },
   "file_extension": ".py",
   "mimetype": "text/x-python",
   "name": "python",
   "nbconvert_exporter": "python",
   "pygments_lexer": "ipython2",
   "version": "2.7.13"
  }
 },
 "nbformat": 4,
 "nbformat_minor": 2
}
